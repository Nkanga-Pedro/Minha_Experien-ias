{
  "cells": [
    {
      "cell_type": "markdown",
      "metadata": {
        "id": "view-in-github",
        "colab_type": "text"
      },
      "source": [
        "<a href=\"https://colab.research.google.com/github/Nkanga-Pedro/Minha_Experien-ias/blob/main/Problema1.ipynb\" target=\"_parent\"><img src=\"https://colab.research.google.com/assets/colab-badge.svg\" alt=\"Open In Colab\"/></a>"
      ]
    },
    {
      "cell_type": "code",
      "execution_count": 1,
      "id": "084c6942",
      "metadata": {
        "id": "084c6942"
      },
      "outputs": [],
      "source": [
        "# Importar as bibliotecas de matplotlib para visualizações\n",
        "# Importar a biblioteca numpy para gerir os numeros aleitorio com a classe random\n",
        "import matplotlib.pyplot as plt\n",
        "import numpy as np"
      ]
    },
    {
      "cell_type": "code",
      "execution_count": 2,
      "id": "bdfd8fe8",
      "metadata": {
        "colab": {
          "base_uri": "https://localhost:8080/",
          "height": 265
        },
        "id": "bdfd8fe8",
        "outputId": "e86e8abf-d1b2-49aa-b1cb-c9b137786aa0"
      },
      "outputs": [
        {
          "output_type": "display_data",
          "data": {
            "text/plain": [
              "<Figure size 432x288 with 1 Axes>"
            ],
            "image/png": "[encoded data removed]"
          },
          "metadata": {
            "needs_background": "light"
          }
        }
      ],
      "source": [
        "# usamos a classe random, para gerir os valor de 1 a 100 de forma aleiatoria\n",
        "# estimando a relação entre duas variaveis (x,y)\n",
        "rng = np.random.RandomState(1)\n",
        "x = -5 + 10 * rng.rand(100)\n",
        "y = 3 * x - 2 + rng.randn(100)\n",
        "plt.scatter(x, y);\n",
        "# chamamos o metodo scatter para visualizar os dois eixos (x,y) apartir das variaveis gerido pelo random"
      ]
    },
    {
      "cell_type": "code",
      "execution_count": 3,
      "id": "f95158ca",
      "metadata": {
        "id": "f95158ca"
      },
      "outputs": [],
      "source": [
        "# utilizamos o modelo da regressão linear para predizer o valor de uma variavél dependente em base de outras variaveis independendes\n",
        "# chamamos a biblioteca sklearn onde se encontra varios outros modelos, no nosso caso foi LinearRegression\n",
        "from sklearn.linear_model import LinearRegression"
      ]
    },
    {
      "cell_type": "code",
      "execution_count": 4,
      "id": "31b454d9",
      "metadata": {
        "colab": {
          "base_uri": "https://localhost:8080/"
        },
        "id": "31b454d9",
        "outputId": "28695245-d39e-4b92-b900-423f25532b16"
      },
      "outputs": [
        {
          "output_type": "stream",
          "name": "stdout",
          "text": [
            "LinearRegression(fit_intercept=False)\n"
          ]
        }
      ],
      "source": [
        "# Criar um modelo\n",
        "model = LinearRegression(fit_intercept=False)\n",
        "print(model) "
      ]
    },
    {
      "cell_type": "code",
      "execution_count": 5,
      "id": "e523bfd9",
      "metadata": {
        "colab": {
          "base_uri": "https://localhost:8080/"
        },
        "id": "e523bfd9",
        "outputId": "7ecc5b90-6b47-46ce-80f6-f6a3201390f1"
      },
      "outputs": [
        {
          "output_type": "stream",
          "name": "stdout",
          "text": [
            "(100, 1)\n"
          ]
        }
      ],
      "source": [
        "# Apresenta o numero de amostra adquirido pelo metodo random nos eixos (x,y)\n",
        "X = x[:, np.newaxis]\n",
        "# Mostra o resultado obtido apartir da matriz, como usamos a Regressao Simples\n",
        "# Temos numero de amostra 100 e atributos ou uma variavel dependente\n",
        "print(X.shape)"
      ]
    },
    {
      "cell_type": "code",
      "execution_count": 6,
      "id": "4d12d6ba",
      "metadata": {
        "colab": {
          "base_uri": "https://localhost:8080/"
        },
        "id": "4d12d6ba",
        "outputId": "1998ff23-9be0-48a8-8f79-283982b08ead"
      },
      "outputs": [
        {
          "output_type": "execute_result",
          "data": {
            "text/plain": [
              "LinearRegression(fit_intercept=False)"
            ]
          },
          "metadata": {},
          "execution_count": 6
        }
      ],
      "source": [
        "# Treinando e ajustar o modelo para não cair no Overfitting do modelo\n",
        "model.fit(X, y)"
      ]
    },
    {
      "cell_type": "code",
      "execution_count": 7,
      "id": "c6ed1eed",
      "metadata": {
        "colab": {
          "base_uri": "https://localhost:8080/",
          "height": 265
        },
        "id": "c6ed1eed",
        "outputId": "1f87a20a-2427-41c4-cc9b-9a67c00dea81"
      },
      "outputs": [
        {
          "output_type": "display_data",
          "data": {
            "text/plain": [
              "<Figure size 432x288 with 1 Axes>"
            ],
            "image/png": "[encoded data removed]"
          },
          "metadata": {
            "needs_background": "light"
          }
        }
      ],
      "source": [
        "# aprtir do modelo com os dados faz-se a predição dos resultado para novos dados\n",
        "xnovos = np.linspace(-6, 6) # gerir novo dado\n",
        "Xnovos = xnovos[:, np.newaxis] # testar o dados\n",
        "ynovos = model.predict(Xnovos) # testar o modelo com novo dado\n",
        "plt.scatter(x, y) # mostrar Linha da regressão\n",
        "plt.plot(xnovos, ynovos, marker = \"*\");"
      ]
    },
    {
      "cell_type": "markdown",
      "id": "d7ca7ff6",
      "metadata": {
        "id": "d7ca7ff6"
      },
      "source": [
        "Notamos que temos mais dados por baixo da linha, isso explica alguns dados residuais em relação às variaveis reias da predição.\n",
        "E noutro o valor de teste (-6,6) nçao se encontra na linha predict no modelo."
      ]
    },
    {
      "cell_type": "code",
      "execution_count": null,
      "id": "4c8d1a14",
      "metadata": {
        "id": "4c8d1a14"
      },
      "outputs": [],
      "source": []
    }
  ],
  "metadata": {
    "kernelspec": {
      "display_name": "Python 3 (ipykernel)",
      "language": "python",
      "name": "python3"
    },
    "language_info": {
      "codemirror_mode": {
        "name": "ipython",
        "version": 3
      },
      "file_extension": ".py",
      "mimetype": "text/x-python",
      "name": "python",
      "nbconvert_exporter": "python",
      "pygments_lexer": "ipython3",
      "version": "3.9.13"
    },
    "colab": {
      "provenance": [],
      "include_colab_link": true
    }
  },
  "nbformat": 4,
  "nbformat_minor": 5
}