{
  "cells": [
    {
      "cell_type": "markdown",
      "metadata": {
        "id": "view-in-github",
        "colab_type": "text"
      },
      "source": [
        "<a href=\"https://colab.research.google.com/github/Nkanga-Pedro/Minha_Experien-ias/blob/main/Problema2.ipynb\" target=\"_parent\"><img src=\"https://colab.research.google.com/assets/colab-badge.svg\" alt=\"Open In Colab\"/></a>"
      ]
    },
    {
      "cell_type": "code",
      "execution_count": 1,
      "id": "dfbab39c",
      "metadata": {
        "id": "dfbab39c"
      },
      "outputs": [],
      "source": [
        "# importar a biblioteca sklearn com metodo datasets e carregar a base de dados iris\n",
        "from sklearn.datasets import load_iris"
      ]
    },
    {
      "cell_type": "code",
      "execution_count": 2,
      "id": "9432ca40",
      "metadata": {
        "id": "9432ca40"
      },
      "outputs": [],
      "source": [
        "# carregar a base de dados iris e atribuir na variavel iris\n",
        "iris = load_iris() "
      ]
    },
    {
      "cell_type": "code",
      "execution_count": 3,
      "id": "5b554b31",
      "metadata": {
        "id": "5b554b31"
      },
      "outputs": [],
      "source": [
        "# as caracteristicas a serem usada na determinação da classe de saida (atributos previsores)\n",
        "X = iris.data"
      ]
    },
    {
      "cell_type": "code",
      "execution_count": 4,
      "id": "4ed289a0",
      "metadata": {
        "id": "4ed289a0"
      },
      "outputs": [],
      "source": [
        "# os atributos da predição do valor de saida\n",
        "y = iris.target"
      ]
    },
    {
      "cell_type": "code",
      "execution_count": 5,
      "id": "ff05f972",
      "metadata": {
        "id": "ff05f972",
        "outputId": "fe46c172-c4c7-471c-8c87-9f33aa736ce1",
        "colab": {
          "base_uri": "https://localhost:8080/"
        }
      },
      "outputs": [
        {
          "output_type": "stream",
          "name": "stdout",
          "text": [
            "Nomes das características: ['sepal length (cm)', 'sepal width (cm)', 'petal length (cm)', 'petal width (cm)']\n",
            "Nomes das classes: ['setosa' 'versicolor' 'virginica']\n",
            "\n",
            " Primeiras 10 linhas do dataset:\n",
            " [[5.1 3.5 1.4 0.2]\n",
            " [4.9 3.  1.4 0.2]\n",
            " [4.7 3.2 1.3 0.2]\n",
            " [4.6 3.1 1.5 0.2]\n",
            " [5.  3.6 1.4 0.2]\n",
            " [5.4 3.9 1.7 0.4]\n",
            " [4.6 3.4 1.4 0.3]\n",
            " [5.  3.4 1.5 0.2]\n",
            " [4.4 2.9 1.4 0.2]\n",
            " [4.9 3.1 1.5 0.1]]\n"
          ]
        }
      ],
      "source": [
        "# nomear os features e target das primerias (10) dez linhas\n",
        "feature_names = iris.feature_names\n",
        "target_names = iris.target_names\n",
        "print(\"Nomes das características:\", feature_names)\n",
        "print(\"Nomes das classes:\", target_names)\n",
        "print(\"\\n Primeiras 10 linhas do dataset:\\n\", X[:10])"
      ]
    },
    {
      "cell_type": "code",
      "execution_count": 6,
      "id": "8798f375",
      "metadata": {
        "id": "8798f375"
      },
      "outputs": [],
      "source": [
        "# importar a biblioteca para usar no modelo de classificação\n",
        "from sklearn.model_selection import train_test_split"
      ]
    },
    {
      "cell_type": "code",
      "execution_count": 7,
      "id": "618b4405",
      "metadata": {
        "id": "618b4405",
        "outputId": "7611a6a4-bc23-45b7-bb29-738c03347e2c",
        "colab": {
          "base_uri": "https://localhost:8080/"
        }
      },
      "outputs": [
        {
          "output_type": "stream",
          "name": "stdout",
          "text": [
            "(105, 4)\n",
            "(45, 4)\n",
            "(105,)\n",
            "(45,)\n"
          ]
        }
      ],
      "source": [
        "# Dividir a base de dados em dados de treino e teste nos features e target\n",
        "# apresentamos os resultados da divisão com 70 % de dados de treino e 30% teste \n",
        "X_train, X_test, y_train, y_test = train_test_split(\n",
        " X, y, test_size = 0.3, random_state = 1)\n",
        "print(X_train.shape)\n",
        "print(X_test.shape)\n",
        "print(y_train.shape)\n",
        "print(y_test.shape)"
      ]
    },
    {
      "cell_type": "code",
      "execution_count": null,
      "id": "20996f2e",
      "metadata": {
        "id": "20996f2e"
      },
      "outputs": [],
      "source": []
    }
  ],
  "metadata": {
    "kernelspec": {
      "display_name": "Python 3 (ipykernel)",
      "language": "python",
      "name": "python3"
    },
    "language_info": {
      "codemirror_mode": {
        "name": "ipython",
        "version": 3
      },
      "file_extension": ".py",
      "mimetype": "text/x-python",
      "name": "python",
      "nbconvert_exporter": "python",
      "pygments_lexer": "ipython3",
      "version": "3.9.13"
    },
    "colab": {
      "provenance": [],
      "include_colab_link": true
    }
  },
  "nbformat": 4,
  "nbformat_minor": 5
}